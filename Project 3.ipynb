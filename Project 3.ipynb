{
 "cells": [
  {
   "cell_type": "markdown",
   "metadata": {},
   "source": [
    "# FINAL PROJECT \n",
    "\n",
    "**Text submission from proposal**-\n",
    "\n",
    "\n",
    "I found 2 data sets of people and their salaries in chicago and baltimore \n",
    "\n",
    "CHICAGO DATASET-\n",
    "https://data.cityofchicago.org/api/views/xzkq-xp2w/rows.csv?accessType=DOWNLOAD\n",
    "This contains 8columns and 33,586rows and around 2.20MB\n",
    "\n",
    "BALTIMORE DATASET-\n",
    "https://data.baltimorecity.gov/api/views/biyh-j8tc/rows.csv?accessType=DOWNLOAD\n",
    "This contains 7columns and 13,683 rows around 1.5MB\n",
    "\n",
    "\n",
    "Columns in the Chicago data:\n",
    "Name,Job Titles,Department,Full or Part-Time,Salary or Hourly,Typical\n",
    "Hours,Annual Salary,Hourly Rate\n",
    "\n",
    "Columns in the Baltimore data:\n",
    "NAME,JOBTITLE,DEPTID,DESCR,HIRE_DT,ANNUAL_RT,GROSS\n",
    "\n",
    "\n",
    "The link above is to direct download the dataset to view it online. I am attaching a link below for both-\n",
    "\n",
    "chicago-\n",
    "https://data.cityofchicago.org/Administration-Finance/Current-Employee-Names-Salaries-and-Position-Title/xzkq-xp2w/data\n",
    "\n",
    "baltimore-\n",
    "https://data.baltimorecity.gov/City-Government/Baltimore-City-Employee-Salaries-FY2018/biyh-j8tc\n",
    "\n",
    "DATA is free to download.\n",
    "I found this data by your given data set link about baltimore in the link you gave which make me search for different states which led me to this somewhat similar data set of chicago.\n",
    "\n",
    "DATA is legal to access and hasn't been documented before.\n",
    "\n",
    "\n",
    "In project-1 i did a similar project which makes me do this project and i do understand the story of the project.\n"
   ]
  },
  {
   "cell_type": "markdown",
   "metadata": {},
   "source": [
    "### Primary Observation-\n",
    "\n",
    "Observing the data primiraly tells us about how there are different departments in two different cities namely baltimore and chicago and what are there pay rates and their salary, also it tells us about if they get paid hourly or monthly, or if they are working full time or part time..  \n",
    "\n",
    "These are just my first impressions after seeing the data as an overview. "
   ]
  },
  {
   "cell_type": "markdown",
   "metadata": {},
   "source": [
    "### PROJECT HYPOTHESIS\n",
    "\n",
    "the ratio of firefighters to police in the two cities should be the same.\n",
    "\n",
    "**Well, the hypothesis turns out to be not true as the ratio of firefighters to police in the two cities is not the same but clearly it is almost twice the size of policemen to the firefighters in both the cities individually. and also the ratio between the two cities is also twice the size.**\n"
   ]
  },
  {
   "cell_type": "markdown",
   "metadata": {},
   "source": [
    "### PROJECT QUESTION-\n",
    "\n",
    "what is the distribution of career durations in the Baltimore data?\n",
    "\n",
    "**Answer to this is well explained below with plots and by adding a new column as duration (in years) from the start date till now.**"
   ]
  },
  {
   "cell_type": "code",
   "execution_count": 1,
   "metadata": {},
   "outputs": [],
   "source": [
    "import pandas as pd\n",
    "import numpy as np\n",
    "import matplotlib.pyplot as plt\n",
    "import seaborn as sns \n",
    "import datetime\n",
    "#importing all the important libraries needed for the project to run smoothly"
   ]
  },
  {
   "cell_type": "code",
   "execution_count": 2,
   "metadata": {},
   "outputs": [
    {
     "name": "stdout",
     "output_type": "stream",
     "text": [
      "Number of Rows: 33586\n",
      "Number of Columns: 8\n"
     ]
    }
   ],
   "source": [
    "# Reading the data from the url of the csv file\n",
    "chicago = pd.read_csv('https://data.cityofchicago.org/api/views/xzkq-xp2w/rows.csv?accessType=DOWNLOAD')\n",
    "#code to show total rows and columns \n",
    "total_rows=len(chicago.axes[0])\n",
    "total_cols=len(chicago.axes[1])\n",
    "\n",
    "#Preview the number of rows and columns \n",
    "print(\"Number of Rows: \"+str(total_rows))\n",
    "print(\"Number of Columns: \"+str(total_cols))"
   ]
  },
  {
   "cell_type": "code",
   "execution_count": 3,
   "metadata": {},
   "outputs": [
    {
     "name": "stdout",
     "output_type": "stream",
     "text": [
      "Number of Rows: 13683\n",
      "Number of Columns: 7\n"
     ]
    }
   ],
   "source": [
    "# Reading the data from the url of the csv file\n",
    "baltimore= pd.read_csv('https://data.baltimorecity.gov/api/views/biyh-j8tc/rows.csv?accessType=DOWNLOAD')\n",
    "#code to show total rows and columns \n",
    "total_rows=len(baltimore.axes[0])\n",
    "total_cols=len(baltimore.axes[1])\n",
    "\n",
    "#Preview the number of rows and columns \n",
    "print(\"Number of Rows: \"+str(total_rows))\n",
    "print(\"Number of Columns: \"+str(total_cols))"
   ]
  },
  {
   "cell_type": "code",
   "execution_count": 4,
   "metadata": {},
   "outputs": [
    {
     "data": {
      "text/html": [
       "<div>\n",
       "<style scoped>\n",
       "    .dataframe tbody tr th:only-of-type {\n",
       "        vertical-align: middle;\n",
       "    }\n",
       "\n",
       "    .dataframe tbody tr th {\n",
       "        vertical-align: top;\n",
       "    }\n",
       "\n",
       "    .dataframe thead th {\n",
       "        text-align: right;\n",
       "    }\n",
       "</style>\n",
       "<table border=\"1\" class=\"dataframe\">\n",
       "  <thead>\n",
       "    <tr style=\"text-align: right;\">\n",
       "      <th></th>\n",
       "      <th>Name</th>\n",
       "      <th>Job Titles</th>\n",
       "      <th>Department</th>\n",
       "      <th>Full or Part-Time</th>\n",
       "      <th>Salary or Hourly</th>\n",
       "      <th>Typical Hours</th>\n",
       "      <th>Annual Salary</th>\n",
       "      <th>Hourly Rate</th>\n",
       "    </tr>\n",
       "  </thead>\n",
       "  <tbody>\n",
       "    <tr>\n",
       "      <th>0</th>\n",
       "      <td>AARON,  JEFFERY M</td>\n",
       "      <td>SERGEANT</td>\n",
       "      <td>POLICE</td>\n",
       "      <td>F</td>\n",
       "      <td>Salary</td>\n",
       "      <td>NaN</td>\n",
       "      <td>101442.0</td>\n",
       "      <td>NaN</td>\n",
       "    </tr>\n",
       "    <tr>\n",
       "      <th>1</th>\n",
       "      <td>AARON,  KARINA</td>\n",
       "      <td>POLICE OFFICER (ASSIGNED AS DETECTIVE)</td>\n",
       "      <td>POLICE</td>\n",
       "      <td>F</td>\n",
       "      <td>Salary</td>\n",
       "      <td>NaN</td>\n",
       "      <td>94122.0</td>\n",
       "      <td>NaN</td>\n",
       "    </tr>\n",
       "    <tr>\n",
       "      <th>2</th>\n",
       "      <td>AARON,  KIMBERLEI R</td>\n",
       "      <td>CHIEF CONTRACT EXPEDITER</td>\n",
       "      <td>GENERAL SERVICES</td>\n",
       "      <td>F</td>\n",
       "      <td>Salary</td>\n",
       "      <td>NaN</td>\n",
       "      <td>111024.0</td>\n",
       "      <td>NaN</td>\n",
       "    </tr>\n",
       "    <tr>\n",
       "      <th>3</th>\n",
       "      <td>ABAD JR,  VICENTE M</td>\n",
       "      <td>CIVIL ENGINEER IV</td>\n",
       "      <td>WATER MGMNT</td>\n",
       "      <td>F</td>\n",
       "      <td>Salary</td>\n",
       "      <td>NaN</td>\n",
       "      <td>114780.0</td>\n",
       "      <td>NaN</td>\n",
       "    </tr>\n",
       "    <tr>\n",
       "      <th>4</th>\n",
       "      <td>ABARCA,  EMMANUEL</td>\n",
       "      <td>CONCRETE LABORER</td>\n",
       "      <td>TRANSPORTN</td>\n",
       "      <td>F</td>\n",
       "      <td>Hourly</td>\n",
       "      <td>40.0</td>\n",
       "      <td>NaN</td>\n",
       "      <td>43.72</td>\n",
       "    </tr>\n",
       "  </tbody>\n",
       "</table>\n",
       "</div>"
      ],
      "text/plain": [
       "                  Name                              Job Titles  \\\n",
       "0    AARON,  JEFFERY M                                SERGEANT   \n",
       "1       AARON,  KARINA  POLICE OFFICER (ASSIGNED AS DETECTIVE)   \n",
       "2  AARON,  KIMBERLEI R                CHIEF CONTRACT EXPEDITER   \n",
       "3  ABAD JR,  VICENTE M                       CIVIL ENGINEER IV   \n",
       "4    ABARCA,  EMMANUEL                        CONCRETE LABORER   \n",
       "\n",
       "         Department Full or Part-Time Salary or Hourly  Typical Hours  \\\n",
       "0            POLICE                 F           Salary            NaN   \n",
       "1            POLICE                 F           Salary            NaN   \n",
       "2  GENERAL SERVICES                 F           Salary            NaN   \n",
       "3       WATER MGMNT                 F           Salary            NaN   \n",
       "4        TRANSPORTN                 F           Hourly           40.0   \n",
       "\n",
       "   Annual Salary  Hourly Rate  \n",
       "0       101442.0          NaN  \n",
       "1        94122.0          NaN  \n",
       "2       111024.0          NaN  \n",
       "3       114780.0          NaN  \n",
       "4            NaN        43.72  "
      ]
     },
     "execution_count": 4,
     "metadata": {},
     "output_type": "execute_result"
    }
   ],
   "source": [
    "chicago.head()"
   ]
  },
  {
   "cell_type": "code",
   "execution_count": 5,
   "metadata": {},
   "outputs": [
    {
     "data": {
      "text/html": [
       "<div>\n",
       "<style scoped>\n",
       "    .dataframe tbody tr th:only-of-type {\n",
       "        vertical-align: middle;\n",
       "    }\n",
       "\n",
       "    .dataframe tbody tr th {\n",
       "        vertical-align: top;\n",
       "    }\n",
       "\n",
       "    .dataframe thead th {\n",
       "        text-align: right;\n",
       "    }\n",
       "</style>\n",
       "<table border=\"1\" class=\"dataframe\">\n",
       "  <thead>\n",
       "    <tr style=\"text-align: right;\">\n",
       "      <th></th>\n",
       "      <th>NAME</th>\n",
       "      <th>JOBTITLE</th>\n",
       "      <th>DEPTID</th>\n",
       "      <th>DESCR</th>\n",
       "      <th>HIRE_DT</th>\n",
       "      <th>ANNUAL_RT</th>\n",
       "      <th>GROSS</th>\n",
       "    </tr>\n",
       "  </thead>\n",
       "  <tbody>\n",
       "    <tr>\n",
       "      <th>0</th>\n",
       "      <td>Aaron,Patricia G</td>\n",
       "      <td>Facilities/Office Services II</td>\n",
       "      <td>A03031</td>\n",
       "      <td>OED-Employment Dev (031)</td>\n",
       "      <td>10/24/1979 12:00:00 AM</td>\n",
       "      <td>60200.0</td>\n",
       "      <td>58480.46</td>\n",
       "    </tr>\n",
       "    <tr>\n",
       "      <th>1</th>\n",
       "      <td>Aaron,Petra L</td>\n",
       "      <td>Assistant State's Attorney</td>\n",
       "      <td>A29045</td>\n",
       "      <td>States Attorneys Office (045)</td>\n",
       "      <td>09/25/2006 12:00:00 AM</td>\n",
       "      <td>81200.0</td>\n",
       "      <td>79220.72</td>\n",
       "    </tr>\n",
       "    <tr>\n",
       "      <th>2</th>\n",
       "      <td>Abadir,Adam O</td>\n",
       "      <td>Council Technician</td>\n",
       "      <td>A02002</td>\n",
       "      <td>City Council (002)</td>\n",
       "      <td>12/12/2016 12:00:00 AM</td>\n",
       "      <td>64823.0</td>\n",
       "      <td>57375.31</td>\n",
       "    </tr>\n",
       "    <tr>\n",
       "      <th>3</th>\n",
       "      <td>Abaku,Aigbolosimuan O</td>\n",
       "      <td>Police Officer Trainee</td>\n",
       "      <td>A99416</td>\n",
       "      <td>Police Department (416)</td>\n",
       "      <td>04/17/2018 12:00:00 AM</td>\n",
       "      <td>50440.0</td>\n",
       "      <td>11881.34</td>\n",
       "    </tr>\n",
       "    <tr>\n",
       "      <th>4</th>\n",
       "      <td>Abbeduto,Mack</td>\n",
       "      <td>Law Clerk SAO</td>\n",
       "      <td>A29017</td>\n",
       "      <td>States Attorneys Office (017)</td>\n",
       "      <td>05/22/2017 12:00:00 AM</td>\n",
       "      <td>38926.0</td>\n",
       "      <td>35138.40</td>\n",
       "    </tr>\n",
       "  </tbody>\n",
       "</table>\n",
       "</div>"
      ],
      "text/plain": [
       "                    NAME                       JOBTITLE  DEPTID  \\\n",
       "0       Aaron,Patricia G  Facilities/Office Services II  A03031   \n",
       "1          Aaron,Petra L     Assistant State's Attorney  A29045   \n",
       "2          Abadir,Adam O             Council Technician  A02002   \n",
       "3  Abaku,Aigbolosimuan O         Police Officer Trainee  A99416   \n",
       "4          Abbeduto,Mack                  Law Clerk SAO  A29017   \n",
       "\n",
       "                           DESCR                 HIRE_DT  ANNUAL_RT     GROSS  \n",
       "0       OED-Employment Dev (031)  10/24/1979 12:00:00 AM    60200.0  58480.46  \n",
       "1  States Attorneys Office (045)  09/25/2006 12:00:00 AM    81200.0  79220.72  \n",
       "2             City Council (002)  12/12/2016 12:00:00 AM    64823.0  57375.31  \n",
       "3        Police Department (416)  04/17/2018 12:00:00 AM    50440.0  11881.34  \n",
       "4  States Attorneys Office (017)  05/22/2017 12:00:00 AM    38926.0  35138.40  "
      ]
     },
     "execution_count": 5,
     "metadata": {},
     "output_type": "execute_result"
    }
   ],
   "source": [
    "baltimore.head()"
   ]
  },
  {
   "cell_type": "code",
   "execution_count": 6,
   "metadata": {},
   "outputs": [
    {
     "data": {
      "text/plain": [
       "Name                  object\n",
       "Job Titles            object\n",
       "Department            object\n",
       "Full or Part-Time     object\n",
       "Salary or Hourly      object\n",
       "Typical Hours        float64\n",
       "Annual Salary        float64\n",
       "Hourly Rate          float64\n",
       "dtype: object"
      ]
     },
     "execution_count": 6,
     "metadata": {},
     "output_type": "execute_result"
    }
   ],
   "source": [
    "chicago.dtypes"
   ]
  },
  {
   "cell_type": "code",
   "execution_count": 7,
   "metadata": {},
   "outputs": [
    {
     "data": {
      "text/plain": [
       "NAME          object\n",
       "JOBTITLE      object\n",
       "DEPTID        object\n",
       "DESCR         object\n",
       "HIRE_DT       object\n",
       "ANNUAL_RT    float64\n",
       "GROSS        float64\n",
       "dtype: object"
      ]
     },
     "execution_count": 7,
     "metadata": {},
     "output_type": "execute_result"
    }
   ],
   "source": [
    "baltimore.dtypes"
   ]
  },
  {
   "cell_type": "markdown",
   "metadata": {},
   "source": [
    "DATA CHECK FOR CLEANING IN BOTH CITIES"
   ]
  },
  {
   "cell_type": "code",
   "execution_count": 8,
   "metadata": {},
   "outputs": [
    {
     "data": {
      "text/plain": [
       "Name                     0\n",
       "Job Titles               0\n",
       "Department               0\n",
       "Full or Part-Time        0\n",
       "Salary or Hourly         0\n",
       "Typical Hours        25638\n",
       "Annual Salary         7948\n",
       "Hourly Rate          25638\n",
       "dtype: int64"
      ]
     },
     "execution_count": 8,
     "metadata": {},
     "output_type": "execute_result"
    }
   ],
   "source": [
    "chicago.isnull().sum()"
   ]
  },
  {
   "cell_type": "code",
   "execution_count": 9,
   "metadata": {},
   "outputs": [
    {
     "data": {
      "text/plain": [
       "NAME           0\n",
       "JOBTITLE       0\n",
       "DEPTID         0\n",
       "DESCR          0\n",
       "HIRE_DT        3\n",
       "ANNUAL_RT      0\n",
       "GROSS        161\n",
       "dtype: int64"
      ]
     },
     "execution_count": 9,
     "metadata": {},
     "output_type": "execute_result"
    }
   ],
   "source": [
    "baltimore.isnull().sum()"
   ]
  },
  {
   "cell_type": "markdown",
   "metadata": {},
   "source": [
    "Bunch of NAN values observed and will clean them in the next step"
   ]
  },
  {
   "cell_type": "markdown",
   "metadata": {},
   "source": [
    "### DATA CLEANING "
   ]
  },
  {
   "cell_type": "code",
   "execution_count": 10,
   "metadata": {},
   "outputs": [
    {
     "data": {
      "text/plain": [
       "Name                 0\n",
       "Job Titles           0\n",
       "Department           0\n",
       "Full or Part-Time    0\n",
       "Salary or Hourly     0\n",
       "Typical Hours        0\n",
       "Annual Salary        0\n",
       "Hourly Rate          0\n",
       "dtype: int64"
      ]
     },
     "execution_count": 10,
     "metadata": {},
     "output_type": "execute_result"
    }
   ],
   "source": [
    "chicago_clean= chicago.fillna(0)\n",
    "chicago_clean.isnull().sum()"
   ]
  },
  {
   "cell_type": "code",
   "execution_count": 11,
   "metadata": {},
   "outputs": [
    {
     "data": {
      "text/plain": [
       "NAME         0\n",
       "JOBTITLE     0\n",
       "DEPTID       0\n",
       "DESCR        0\n",
       "HIRE_DT      0\n",
       "ANNUAL_RT    0\n",
       "GROSS        0\n",
       "dtype: int64"
      ]
     },
     "execution_count": 11,
     "metadata": {},
     "output_type": "execute_result"
    }
   ],
   "source": [
    "baltimore_clean= baltimore.fillna(0)\n",
    "baltimore_clean.isnull().sum()"
   ]
  },
  {
   "cell_type": "markdown",
   "metadata": {},
   "source": [
    "Data is now cleaned and ready to be used for analysis and visualisation  "
   ]
  },
  {
   "cell_type": "markdown",
   "metadata": {},
   "source": [
    "### HYPOTHESIS-\n",
    "\n",
    "the ratio of firefighters to police in the two cities should be the same."
   ]
  },
  {
   "cell_type": "code",
   "execution_count": 12,
   "metadata": {},
   "outputs": [
    {
     "data": {
      "text/plain": [
       "0         OED-Employment Dev (031)\n",
       "1    States Attorneys Office (045)\n",
       "2               City Council (002)\n",
       "3          Police Department (416)\n",
       "4    States Attorneys Office (017)\n",
       "Name: DESCR, dtype: object"
      ]
     },
     "execution_count": 12,
     "metadata": {},
     "output_type": "execute_result"
    }
   ],
   "source": [
    "baltimore_clean['DESCR'].head()"
   ]
  },
  {
   "cell_type": "code",
   "execution_count": 13,
   "metadata": {
    "collapsed": true,
    "jupyter": {
     "outputs_hidden": true
    }
   },
   "outputs": [
    {
     "data": {
      "text/plain": [
       "['OED-Employment Dev',\n",
       " 'States Attorneys Office',\n",
       " 'City Council',\n",
       " 'Police Department',\n",
       " 'States Attorneys Office',\n",
       " 'R&P-Administration',\n",
       " 'TRANS-Traffic',\n",
       " 'Fire Department',\n",
       " 'Police Department',\n",
       " \"Sheriff's Office\",\n",
       " 'R&P-Recreation',\n",
       " 'R&P-Recreation',\n",
       " 'DPW-Water & Waste Water',\n",
       " 'DPW-Solid Waste',\n",
       " 'HLTH-Health Department',\n",
       " 'Housing & Community Dev',\n",
       " 'Fire Department',\n",
       " 'Enoch Pratt Free Library',\n",
       " 'OED-Employment Dev',\n",
       " 'COMP-Audits',\n",
       " 'General Services',\n",
       " 'TRANS-Highways',\n",
       " 'R&P-Recreation',\n",
       " 'DPW-Solid Waste',\n",
       " 'DPW-Water & Waste Water',\n",
       " 'Housing & Community Dev',\n",
       " 'General Services',\n",
       " 'Police Department',\n",
       " 'States Attorneys Office',\n",
       " 'FIN-Collections',\n",
       " 'R&P-Recreation',\n",
       " 'HR-Test Monitor',\n",
       " 'HLTH-Health Department',\n",
       " 'TRANS-Highways',\n",
       " 'HLTH-Health Department',\n",
       " 'Liquor License Board',\n",
       " 'Enoch Pratt Free Library',\n",
       " 'Fire Department',\n",
       " 'Police Department',\n",
       " 'Police Department',\n",
       " 'Police Department',\n",
       " 'States Attorneys Office',\n",
       " 'Fire Department',\n",
       " 'TRANS-Traffic',\n",
       " 'TRANS-Highways',\n",
       " 'Fire Department',\n",
       " 'Police Department',\n",
       " 'DPW-Water & Waste Water',\n",
       " 'Police Department',\n",
       " 'Enoch Pratt Free Library',\n",
       " 'DPW-Water & Waste Water',\n",
       " 'DPW-Administration',\n",
       " 'Police Department',\n",
       " 'FIN-Purchasing',\n",
       " 'DPW-Water & Waste Water',\n",
       " 'DPW-Water & Waste Water',\n",
       " 'COMP-Communication Services',\n",
       " 'Police Department',\n",
       " 'TRANS-Crossing Guards',\n",
       " 'DPW-Water & Waste Water',\n",
       " 'Circuit Court',\n",
       " 'Police Department',\n",
       " 'HLTH-Health Department',\n",
       " 'Housing & Community Dev',\n",
       " 'TRANS-Traffic',\n",
       " 'Police Department',\n",
       " 'R&P-Recreation',\n",
       " 'Fire Department',\n",
       " 'Police Department',\n",
       " 'DPW-Solid Waste',\n",
       " 'Police Department',\n",
       " 'DPW-Water & Waste Water',\n",
       " 'FIN-Purchasing',\n",
       " 'General Services',\n",
       " 'DPW-Solid Waste',\n",
       " 'TRANS-Highways',\n",
       " 'FIN-Risk Management Oper',\n",
       " 'DPW-Water & Waste Water',\n",
       " \"COMP-Comptroller's Office\",\n",
       " 'DPW-Solid Waste',\n",
       " 'DPW-Water & Waste Water',\n",
       " 'FIN-Purchasing',\n",
       " 'HLTH-Health Department',\n",
       " 'States Attorneys Office',\n",
       " 'TRANS-Highways',\n",
       " 'DPW-Water & Waste Water',\n",
       " 'Fire Department',\n",
       " 'States Attorneys Office',\n",
       " 'Police Department',\n",
       " 'M-R Human Services',\n",
       " 'DPW-Water & Waste Water',\n",
       " 'DPW-Water & Waste Water',\n",
       " 'Police Department',\n",
       " 'Police Department',\n",
       " 'DPW-Water & Waste Water',\n",
       " 'Police Department',\n",
       " 'Police Department',\n",
       " 'Housing & Community Dev',\n",
       " 'Police Department',\n",
       " 'DPW-Water & Waste Water',\n",
       " 'Planning Department',\n",
       " 'FIN-Collections',\n",
       " 'DPW-Water & Waste Water',\n",
       " 'DPW-Water & Waste Water',\n",
       " 'Police Department',\n",
       " 'DPW-Water & Waste Water',\n",
       " 'DPW-Solid Waste',\n",
       " 'General Services',\n",
       " 'DPW-Water & Waste Water',\n",
       " 'Legislative Reference',\n",
       " 'Police Department',\n",
       " 'Fire Department',\n",
       " 'States Attorneys Office',\n",
       " 'TRANS-Highways',\n",
       " 'TRANS-Highways',\n",
       " 'HLTH-Health Department',\n",
       " 'Police Department',\n",
       " 'HLTH-Health Department',\n",
       " 'Liquor License Board',\n",
       " 'COMP-Audits',\n",
       " 'HLTH-Health Department',\n",
       " 'HLTH-Health Dept. Location 111',\n",
       " 'States Attorneys Office',\n",
       " 'R&P-Administration',\n",
       " 'Police Department',\n",
       " 'General Services',\n",
       " 'FIN-Collections',\n",
       " 'DPW-Water & Waste Water',\n",
       " 'Police Department',\n",
       " 'Police Department',\n",
       " 'Fire Department',\n",
       " 'DPW-Water & Waste Water',\n",
       " 'DPW-Solid Waste',\n",
       " 'Fire Department',\n",
       " 'Fire Department',\n",
       " 'HLTH-Health Department',\n",
       " 'Law Department',\n",
       " 'Mayors Office',\n",
       " 'Police Department',\n",
       " 'R&P-Recreation',\n",
       " 'Enoch Pratt Free Library',\n",
       " 'Fire Department',\n",
       " 'DPW-Water & Waste Water',\n",
       " 'M-R Convention Center',\n",
       " 'Enoch Pratt Free Library',\n",
       " 'Police Department',\n",
       " 'DPW-Administration',\n",
       " 'Police Department',\n",
       " 'Fire Department',\n",
       " 'DPW-Solid Waste',\n",
       " 'Police Department',\n",
       " 'General Services',\n",
       " 'Police Department',\n",
       " 'Police Department',\n",
       " 'TRANS-Crossing Guards',\n",
       " 'HLTH-Health Department',\n",
       " 'HLTH-Health Department',\n",
       " 'Police Department',\n",
       " 'Fire Department',\n",
       " 'DPW-Solid Waste',\n",
       " 'Housing & Community Dev',\n",
       " 'Fire Department',\n",
       " 'Police Department',\n",
       " 'Police Department',\n",
       " 'Police Department',\n",
       " 'General Services',\n",
       " 'R&P-Recreation',\n",
       " 'DPW-Water & Waste Water',\n",
       " 'Police Department',\n",
       " 'M-R Human Services',\n",
       " 'Fire Department',\n",
       " 'Fire Department',\n",
       " 'Enoch Pratt Free Library',\n",
       " 'DPW-Water & Waste Water',\n",
       " 'Mayors Office',\n",
       " 'FIN-Risk Management Oper',\n",
       " 'DPW-Water & Waste Water',\n",
       " 'TRANS-Traffic',\n",
       " \"Orphan's Court\",\n",
       " 'DPW-Water & Waste Water',\n",
       " 'DPW-Water & Waste Water',\n",
       " 'R&P-Recreation',\n",
       " 'R&P-Recreation',\n",
       " 'M-R Convention Center',\n",
       " 'DPW-Water & Waste Water',\n",
       " 'Housing & Community Dev',\n",
       " 'M-R Info Technology',\n",
       " 'Enoch Pratt Free Library',\n",
       " 'Fire Department',\n",
       " 'Police Department',\n",
       " 'Planning Department',\n",
       " 'TRANS-Highways',\n",
       " 'DPW-Water & Waste Water',\n",
       " 'TRANS-Crossing Guards',\n",
       " 'DPW-Solid Waste',\n",
       " 'TRANS-Towing',\n",
       " 'Law Department',\n",
       " 'DPW-Water & Waste Water',\n",
       " 'Police Department',\n",
       " 'Police Department',\n",
       " 'Housing & Community Dev',\n",
       " 'COMP-Real Estate',\n",
       " 'Police Department',\n",
       " 'Police Department',\n",
       " 'TRANS-Highways',\n",
       " \"Sheriff's Office\",\n",
       " 'Police Department',\n",
       " \"Sheriff's Office\",\n",
       " 'Enoch Pratt Free Library',\n",
       " 'R&P-Administration',\n",
       " 'States Attorneys Office',\n",
       " 'TRANS-Highways',\n",
       " 'Police Department',\n",
       " 'TRANS-Highways',\n",
       " 'DPW-Water & Waste Water',\n",
       " 'Police Department',\n",
       " 'R&P-Parks',\n",
       " 'DPW-Water & Waste Water',\n",
       " 'Police Department',\n",
       " 'DPW-Solid Waste',\n",
       " 'HLTH-Health Department',\n",
       " 'FIN-Treasury Mgt',\n",
       " 'DPW-Water & Waste Water',\n",
       " 'HLTH-Health Department',\n",
       " 'HLTH-Health Department',\n",
       " 'R&P-Recreation',\n",
       " 'DPW-Water & Waste Water',\n",
       " 'DPW-Water & Waste Water',\n",
       " 'DPW-Solid Waste',\n",
       " 'HLTH-Health Department',\n",
       " 'M-R Convention Center',\n",
       " 'Housing & Community Dev',\n",
       " 'States Attorneys Office',\n",
       " 'Police Department',\n",
       " 'DPW-Water & Waste Water',\n",
       " 'HLTH-Health Department',\n",
       " 'DPW-Water & Waste Water',\n",
       " 'R&P-Recreation',\n",
       " 'Fire Department',\n",
       " 'Fire Department',\n",
       " 'Housing & Community Dev',\n",
       " 'DPW-Administration',\n",
       " 'R&P-Recreation',\n",
       " 'States Attorneys Office',\n",
       " 'Police Department',\n",
       " 'Police Department',\n",
       " 'Police Department',\n",
       " 'Police Department',\n",
       " 'FIN-Collections',\n",
       " 'Circuit Court',\n",
       " 'Police Department',\n",
       " 'Housing & Community Dev',\n",
       " 'DPW-Water & Waste Water',\n",
       " 'Police Department',\n",
       " 'States Attorneys Office',\n",
       " 'HLTH-Health Department',\n",
       " 'HLTH-Health Dept. Location 116',\n",
       " 'States Attorneys Office',\n",
       " 'General Services',\n",
       " 'Police Department',\n",
       " 'DPW-Water & Waste Water',\n",
       " 'DPW-Solid Waste',\n",
       " 'R&P-Administration',\n",
       " 'DPW-Water & Waste Water',\n",
       " 'Police Department',\n",
       " 'Fire Department',\n",
       " 'TRANS-Highways',\n",
       " 'TRANS-Traffic',\n",
       " 'HLTH-Health Department',\n",
       " 'TRANS-Highways',\n",
       " 'Police Department',\n",
       " 'DPW-Water & Waste Water',\n",
       " 'Police Department',\n",
       " 'States Attorneys Office',\n",
       " 'DPW-Water & Waste Water',\n",
       " 'Police Department',\n",
       " 'Police Department',\n",
       " 'States Attorneys Office',\n",
       " 'Law Department',\n",
       " 'Police Department',\n",
       " 'R&P-Administration',\n",
       " 'TRANS-Highways',\n",
       " 'R&P-Parks',\n",
       " 'Housing & Community Dev',\n",
       " 'Circuit Court',\n",
       " 'DPW-Water & Waste Water',\n",
       " 'Fire Department',\n",
       " 'TRANS-Crossing Guards',\n",
       " 'Police Department',\n",
       " 'Police Department',\n",
       " 'Housing & Community Dev',\n",
       " 'R&P-Recreation',\n",
       " 'OED-Employment Dev',\n",
       " 'TRANS-Traffic',\n",
       " 'Enoch Pratt Free Library',\n",
       " 'Police Department',\n",
       " 'FPR Admin',\n",
       " 'R&P-Recreation',\n",
       " 'FIN-Purchasing',\n",
       " 'DPW-Administration',\n",
       " 'DPW-Solid Waste',\n",
       " 'R&P-Recreation',\n",
       " 'HLTH-Health Department',\n",
       " 'Fire Department',\n",
       " 'M-R Convention Center',\n",
       " 'Police Department',\n",
       " \"Sheriff's Office\",\n",
       " 'DPW-Administration',\n",
       " 'States Attorneys Office',\n",
       " 'DPW-Water & Waste Water',\n",
       " 'TRANS-Highways',\n",
       " 'DPW-Solid Waste',\n",
       " 'DPW-Solid Waste',\n",
       " 'DPW-Solid Waste',\n",
       " 'Fire Department',\n",
       " 'DPW-Solid Waste',\n",
       " 'DPW-Water & Waste Water',\n",
       " 'OED-Employment Dev',\n",
       " 'DPW-Water & Waste Water',\n",
       " 'R&P-Parks',\n",
       " 'Police Department',\n",
       " 'R&P-Administration',\n",
       " 'Police Department',\n",
       " 'DPW-Water & Waste Water',\n",
       " 'DPW-Solid Waste',\n",
       " 'DPW-Water & Waste Water',\n",
       " 'HLTH-Health Department',\n",
       " 'Police Department',\n",
       " 'Police Department',\n",
       " 'Police Department',\n",
       " 'Fire Department',\n",
       " \"Sheriff's Office\",\n",
       " 'DPW-Water & Waste Water',\n",
       " 'General Services',\n",
       " 'R&P-Recreation',\n",
       " 'Police Department',\n",
       " 'Fire Department',\n",
       " 'OED-Employment Dev',\n",
       " 'Police Department',\n",
       " 'R&P-Parks',\n",
       " 'HLTH-Health Department',\n",
       " 'Police Department',\n",
       " 'Police Department',\n",
       " 'HLTH-Health Department',\n",
       " 'HLTH-Health Department',\n",
       " 'States Attorneys Office',\n",
       " 'Fire Department',\n",
       " 'Police Department',\n",
       " 'Police Department',\n",
       " 'FIN-Acct & Payroll',\n",
       " 'States Attorneys Office',\n",
       " 'Police Department',\n",
       " 'General Services',\n",
       " 'M-R Info Technology',\n",
       " 'FIN-Admin & Budgets',\n",
       " 'Enoch Pratt Free Library',\n",
       " 'Circuit Court',\n",
       " 'Housing & Community Dev',\n",
       " 'DPW-Water & Waste Water',\n",
       " 'Planning Department',\n",
       " 'Police Department',\n",
       " 'DPW-Water & Waste Water',\n",
       " 'R&P-Recreation',\n",
       " 'Enoch Pratt Free Library',\n",
       " 'Police Department',\n",
       " 'Police Department',\n",
       " 'R&P-Parks',\n",
       " 'Police Department',\n",
       " 'DPW-Solid Waste',\n",
       " 'M-R Human Services',\n",
       " 'TRANS-Towing',\n",
       " 'Fire Department',\n",
       " 'TRANS-Highways',\n",
       " 'Enoch Pratt Free Library',\n",
       " 'TRANS-Towing',\n",
       " 'DPW-Water & Waste Water',\n",
       " 'Police Department',\n",
       " \"Sheriff's Office\",\n",
       " 'TRANS-Highways',\n",
       " \"COMP-Comptroller's Office\",\n",
       " 'HLTH-Health Department',\n",
       " 'Police Department',\n",
       " 'OED-Employment Dev',\n",
       " 'Police Department',\n",
       " 'Housing & Community Dev',\n",
       " 'Police Department',\n",
       " 'Police Department',\n",
       " \"Sheriff's Office\",\n",
       " 'Fire Department',\n",
       " 'M-R Convention Center',\n",
       " 'R&P-Recreation',\n",
       " 'OED-Employment Dev',\n",
       " 'DPW-Solid Waste',\n",
       " 'DPW-Solid Waste',\n",
       " 'Police Department',\n",
       " 'TRANS-Highways',\n",
       " 'TRANS-Highways',\n",
       " 'DPW-Solid Waste',\n",
       " 'Police Department',\n",
       " 'Fire Department',\n",
       " 'TRANS-Towing',\n",
       " 'FPR Admin',\n",
       " 'DPW-Solid Waste',\n",
       " 'Police Department',\n",
       " 'Fire Department',\n",
       " 'DPW-Water & Waste Water',\n",
       " 'TRANS-Crossing Guards',\n",
       " 'DPW-Solid Waste',\n",
       " 'M-R Convention Center',\n",
       " 'HR-Human Resources',\n",
       " 'Police Department',\n",
       " 'TRANS-Highways',\n",
       " 'DPW-Administration',\n",
       " 'DPW-Solid Waste',\n",
       " 'HLTH-Health Department',\n",
       " 'HLTH-Health Department',\n",
       " 'HLTH-Health Dept. Location 196',\n",
       " 'Fire Department',\n",
       " 'Police Department',\n",
       " 'TRANS-Highways',\n",
       " 'DPW-Solid Waste',\n",
       " 'DPW-Water & Waste Water',\n",
       " 'Planning Department',\n",
       " 'R&P-Administration',\n",
       " 'DPW-Water & Waste Water',\n",
       " 'Fire Department',\n",
       " 'DPW-Water & Waste Water',\n",
       " 'Fire Department',\n",
       " 'COMP-Audits',\n",
       " 'DPW-Solid Waste',\n",
       " 'TRANS-Crossing Guards',\n",
       " 'R&P-Recreation',\n",
       " 'Mayors Office',\n",
       " 'HR-Human Resources',\n",
       " 'M-R Human Services',\n",
       " 'Fire Department',\n",
       " 'Police Department',\n",
       " 'DPW-Water & Waste Water',\n",
       " 'HLTH-Health Department',\n",
       " 'HLTH-Heatlh Dept.',\n",
       " 'Fire Department',\n",
       " 'Police Department',\n",
       " 'TRANS-Crossing Guards',\n",
       " 'DPW-Solid Waste',\n",
       " 'States Attorneys Office',\n",
       " 'Fire Department',\n",
       " 'Fire Department',\n",
       " 'ERS/EOS Admin',\n",
       " 'Fire Department',\n",
       " 'States Attorneys Office',\n",
       " 'General Services',\n",
       " 'Planning Department',\n",
       " 'Fire Department',\n",
       " 'Police Department',\n",
       " 'DPW-Administration',\n",
       " 'Planning Department',\n",
       " 'DPW-Administration',\n",
       " 'TRANS-Highways',\n",
       " 'Police Department',\n",
       " 'Police Department',\n",
       " 'R&P-Recreation',\n",
       " 'DPW-Water & Waste Water',\n",
       " 'Fire Department',\n",
       " 'Police Department',\n",
       " 'Police Department',\n",
       " 'Police Department',\n",
       " 'General Services',\n",
       " 'TRANS-Highways',\n",
       " 'FIN-Collections',\n",
       " 'M-R Info Technology',\n",
       " 'City Council',\n",
       " 'Police Department',\n",
       " 'HLTH-Health Department',\n",
       " 'Police Department',\n",
       " 'TRANS-Traffic',\n",
       " 'Enoch Pratt Free Library',\n",
       " 'TRANS-Highways',\n",
       " 'Police Department',\n",
       " 'DPW-Water & Waste Water',\n",
       " 'Police Department',\n",
       " 'Police Department',\n",
       " 'Police Department',\n",
       " 'Police Department',\n",
       " 'Police Department',\n",
       " 'DPW-Water & Waste Water',\n",
       " 'Housing & Community Dev',\n",
       " 'FIN-Purchasing',\n",
       " 'DPW-Administration',\n",
       " 'TRANS-Highways',\n",
       " 'M-R Labor Commissioner',\n",
       " 'Police Department',\n",
       " 'Police Department',\n",
       " 'ERS/EOS Admin',\n",
       " 'States Attorneys Office',\n",
       " 'Police Department',\n",
       " 'Housing & Community Dev',\n",
       " 'Police Department',\n",
       " 'General Services',\n",
       " 'HLTH-Health Department',\n",
       " 'DPW-Water & Waste Water',\n",
       " 'HLTH-Health Department',\n",
       " 'M-R Info Technology',\n",
       " 'HLTH-Health Department',\n",
       " 'Housing & Community Dev',\n",
       " 'Police Department',\n",
       " 'Housing & Community Dev',\n",
       " 'Police Department',\n",
       " 'HLTH-Health Department',\n",
       " 'Fire Department',\n",
       " 'DPW-Solid Waste',\n",
       " 'TRANS-Highways',\n",
       " 'TRANS-Highways',\n",
       " 'TRANS-Highways',\n",
       " 'Police Department',\n",
       " 'Police Department',\n",
       " 'Police Department',\n",
       " 'Fire Department',\n",
       " 'M-R Info Technology',\n",
       " 'Fire Department',\n",
       " 'M-R Info Technology',\n",
       " 'HLTH-Health Department',\n",
       " 'HLTH-Health Dept. Location 111',\n",
       " 'TRANS-Highways',\n",
       " 'Police Department',\n",
       " 'Police Department',\n",
       " 'DPW-Water & Waste Water',\n",
       " 'Police Department',\n",
       " 'R&P-Recreation',\n",
       " 'R&P-Recreation',\n",
       " 'HLTH-Health Department',\n",
       " 'Police Department',\n",
       " 'FIN-Collections',\n",
       " 'Fire Department',\n",
       " 'FIN-Purchasing',\n",
       " 'Enoch Pratt Free Library',\n",
       " 'DPW-Water & Waste Water',\n",
       " 'DPW-Water & Waste Water',\n",
       " 'Fire Department',\n",
       " 'Mayors Office',\n",
       " 'DPW-Water & Waste Water',\n",
       " 'HLTH-Health Department',\n",
       " 'TRANS-Crossing Guards',\n",
       " 'HLTH-Health Department',\n",
       " 'DPW-Water & Waste Water',\n",
       " 'Police Department',\n",
       " 'HLTH-Health Department',\n",
       " 'States Attorneys Office',\n",
       " 'HLTH-Health Department',\n",
       " 'Fire Department',\n",
       " 'R&P-Recreation',\n",
       " 'R&P-Recreation',\n",
       " 'DPW-Solid Waste',\n",
       " 'TRANS-Towing',\n",
       " 'Police Department',\n",
       " 'FIN-Collections',\n",
       " 'Police Department',\n",
       " 'R&P-Recreation',\n",
       " 'DPW-Solid Waste',\n",
       " 'TRANS-Highways',\n",
       " 'M-R Info Technology',\n",
       " 'HLTH-Health Department',\n",
       " 'General Services',\n",
       " 'DPW-Water & Waste Water',\n",
       " 'Mayors Office',\n",
       " 'Fire Department',\n",
       " 'OED-Employment Dev',\n",
       " 'DPW-Water & Waste Water',\n",
       " 'DPW-Water & Waste Water',\n",
       " 'Fire Department',\n",
       " 'HLTH-Health Department',\n",
       " 'Police Department',\n",
       " 'TRANS-Highways',\n",
       " 'General Services',\n",
       " 'R&P-Parks',\n",
       " 'FIN-Acct & Payroll',\n",
       " 'TRANS-Highways',\n",
       " 'Police Department',\n",
       " 'Enoch Pratt Free Library',\n",
       " 'TRANS-Highways',\n",
       " 'TRANS-Highways',\n",
       " 'R&P-Recreation',\n",
       " 'DPW-Water & Waste Water',\n",
       " 'DPW-Solid Waste',\n",
       " 'FIN-Acct & Payroll',\n",
       " 'Enoch Pratt Free Library',\n",
       " \"Sheriff's Office\",\n",
       " 'Police Department',\n",
       " 'Fire Department',\n",
       " 'DPW-Water & Waste Water',\n",
       " 'FPR Admin',\n",
       " 'DPW-Water & Waste Water',\n",
       " 'General Services',\n",
       " 'Police Department',\n",
       " 'Fire Department',\n",
       " 'Police Department',\n",
       " 'Police Department',\n",
       " 'Housing & Community Dev',\n",
       " 'DPW-Water & Waste Water',\n",
       " 'HLTH-Health Department',\n",
       " 'M-R Convention Center',\n",
       " 'States Attorneys Office',\n",
       " 'DPW-Solid Waste',\n",
       " 'Police Department',\n",
       " 'R&P-Recreation',\n",
       " 'Police Department',\n",
       " 'ERS/EOS Admin',\n",
       " \"Sheriff's Office\",\n",
       " 'Mayors Office',\n",
       " 'R&P-Administration',\n",
       " 'TRANS-Crossing Guards',\n",
       " 'Fire Department',\n",
       " 'DPW-Water & Waste Water',\n",
       " 'DPW-Water & Waste Water',\n",
       " 'Fire Department',\n",
       " 'Police Department',\n",
       " 'Police Department',\n",
       " 'HLTH-Health Department',\n",
       " 'Housing & Community Dev',\n",
       " 'Police Department',\n",
       " 'Police Department',\n",
       " 'Police Department',\n",
       " 'States Attorneys Office',\n",
       " 'Municipal & Zoning Appeals 001',\n",
       " 'DPW-Water & Waste Water',\n",
       " 'States Attorneys Office',\n",
       " 'TRANS-Highways',\n",
       " \"Sheriff's Office\",\n",
       " 'States Attorneys Office',\n",
       " 'R&P-Recreation',\n",
       " 'DPW-Water & Waste Water',\n",
       " 'Planning Department',\n",
       " 'Police Department',\n",
       " 'City Council',\n",
       " 'Police Department',\n",
       " 'Police Department',\n",
       " 'Police Department',\n",
       " 'DPW-Water & Waste Water',\n",
       " 'FIN-Risk Management Oper',\n",
       " 'DPW-Solid Waste',\n",
       " 'Mayors Office',\n",
       " 'Enoch Pratt Free Library',\n",
       " 'DPW-Water & Waste Water',\n",
       " 'Enoch Pratt Free Library',\n",
       " 'Enoch Pratt Free Library',\n",
       " 'Law Department',\n",
       " 'States Attorneys Office',\n",
       " 'Fire Department',\n",
       " 'DPW-Water & Waste Water',\n",
       " 'FIN-Collections',\n",
       " 'Police Department',\n",
       " 'Fire Department',\n",
       " 'Police Department',\n",
       " 'DPW-Water & Waste Water',\n",
       " 'Enoch Pratt Free Library',\n",
       " 'Fire Department',\n",
       " 'DPW-Water & Waste Water',\n",
       " 'Housing & Community Dev',\n",
       " 'HLTH-Health Department',\n",
       " 'Housing & Community Dev',\n",
       " 'Police Department',\n",
       " 'R&P-Recreation',\n",
       " 'Police Department',\n",
       " 'HR-Human Resources',\n",
       " 'FIN-Collections',\n",
       " \"Sheriff's Office\",\n",
       " 'TRANS-Crossing Guards',\n",
       " 'Police Department',\n",
       " 'Police Department',\n",
       " 'DPW-Water & Waste Water',\n",
       " 'FIN-Collections',\n",
       " 'TRANS-Highways',\n",
       " 'Enoch Pratt Free Library',\n",
       " 'DPW-Water & Waste Water',\n",
       " 'Mayors Office',\n",
       " 'States Attorneys Office',\n",
       " 'R&P-Recreation',\n",
       " 'Fire Department',\n",
       " 'DPW-Water & Waste Water',\n",
       " 'Circuit Court',\n",
       " 'States Attorneys Office',\n",
       " 'Police Department',\n",
       " 'Police Department',\n",
       " 'Housing & Community Dev',\n",
       " 'Police Department',\n",
       " 'Police Department',\n",
       " 'General Services',\n",
       " 'HLTH-Health Department',\n",
       " 'General Services',\n",
       " 'Housing & Community Dev',\n",
       " 'Fire Department',\n",
       " 'Housing & Community Dev',\n",
       " 'Fire Department',\n",
       " 'Enoch Pratt Free Library',\n",
       " 'R&P-Parks',\n",
       " 'DPW-Solid Waste',\n",
       " 'DPW-Water & Waste Water',\n",
       " 'DPW-Water & Waste Water',\n",
       " 'M-R Human Services',\n",
       " 'TRANS-Traffic',\n",
       " 'Police Department',\n",
       " 'Fire Department',\n",
       " 'DPW-Water & Waste Water',\n",
       " 'DPW-Water & Waste Water',\n",
       " 'Fire Department',\n",
       " 'DPW-Water & Waste Water',\n",
       " 'Police Department',\n",
       " 'M-R Info Technology',\n",
       " 'Fire Department',\n",
       " 'Police Department',\n",
       " 'TRANS-Crossing Guards',\n",
       " 'TRANS-Cross Guard-Summer',\n",
       " 'Fire Department',\n",
       " 'FPR Admin',\n",
       " 'TRANS-Highways',\n",
       " 'Police Department',\n",
       " 'DPW-Water & Waste Water',\n",
       " 'General Services',\n",
       " 'Police Department',\n",
       " 'DPW-Solid Waste',\n",
       " 'HLTH-Health Department',\n",
       " 'DPW-Solid Waste',\n",
       " 'Police Department',\n",
       " 'DPW-Water & Waste Water',\n",
       " 'R&P-Recreation',\n",
       " 'HLTH-Health Department',\n",
       " 'DPW-Water & Waste Water',\n",
       " 'Police Department',\n",
       " 'States Attorneys Office',\n",
       " 'Police Department',\n",
       " 'HLTH-Health Department',\n",
       " 'Police Department',\n",
       " 'M-R Human Services',\n",
       " 'Police Department',\n",
       " 'DPW-Water & Waste Water',\n",
       " 'Police Department',\n",
       " 'TRANS-Crossing Guards',\n",
       " 'TRANS-Cross Guard-Summer',\n",
       " 'DPW-Water & Waste Water',\n",
       " 'States Attorneys Office',\n",
       " 'R&P-Parks',\n",
       " 'R&P-Recreation',\n",
       " 'R&P-Recreation',\n",
       " 'M-R Convention Center',\n",
       " 'Police Department',\n",
       " 'States Attorneys Office',\n",
       " 'Police Department',\n",
       " 'Police Department',\n",
       " 'Police Department',\n",
       " 'Police Department',\n",
       " 'TRANS-Highways',\n",
       " 'R&P-Recreation',\n",
       " 'Police Department',\n",
       " 'Police Department',\n",
       " 'DPW-Water & Waste Water',\n",
       " 'Circuit Court',\n",
       " 'Municipal & Zoning Appeals 001',\n",
       " 'Fire Department',\n",
       " 'Police Department',\n",
       " 'R&P-Recreation',\n",
       " 'DPW-Solid Waste',\n",
       " 'Circuit Court',\n",
       " \"Orphan's Court\",\n",
       " \"Orphan's Court\",\n",
       " \"Sheriff's Office\",\n",
       " 'General Services',\n",
       " 'General Services',\n",
       " 'DPW-Water & Waste Water',\n",
       " 'DPW-Water & Waste Water',\n",
       " 'Enoch Pratt Free Library',\n",
       " 'DPW-Solid Waste',\n",
       " 'Police Department',\n",
       " 'Police Department',\n",
       " 'DPW-Water & Waste Water',\n",
       " 'TRANS-Crossing Guards',\n",
       " 'Circuit Court',\n",
       " 'Police Department',\n",
       " 'DPW-Water & Waste Water',\n",
       " 'TRANS-Traffic',\n",
       " 'Fire Department',\n",
       " 'Police Department',\n",
       " 'Fire Department',\n",
       " 'DPW-Solid Waste',\n",
       " 'HLTH-Health Department',\n",
       " 'DPW-Solid Waste',\n",
       " 'General Services',\n",
       " 'COMP-Communication Services',\n",
       " 'Police Department',\n",
       " 'Police Department',\n",
       " 'Police Department',\n",
       " 'M-R Info Technology',\n",
       " 'TRANS-Highways',\n",
       " 'R&P-Administration',\n",
       " 'TRANS-Towing',\n",
       " 'TRANS-Highways',\n",
       " 'DPW-Water & Waste Water',\n",
       " 'DPW-Solid Waste',\n",
       " 'Police Department',\n",
       " 'Enoch Pratt Free Library',\n",
       " 'Police Department',\n",
       " 'Police Department',\n",
       " 'Police Department',\n",
       " 'Fire Department',\n",
       " 'HLTH-Health Department',\n",
       " 'Law Department',\n",
       " 'DPW-Solid Waste',\n",
       " 'Enoch Pratt Free Library',\n",
       " 'Police Department',\n",
       " 'DPW-Water & Waste Water',\n",
       " 'Enoch Pratt Free Library',\n",
       " \"COMP-Comptroller's Office\",\n",
       " 'Fire Department',\n",
       " 'Housing & Community Dev',\n",
       " 'Police Department',\n",
       " 'Fire Department',\n",
       " 'Police Department',\n",
       " 'Enoch Pratt Free Library',\n",
       " 'HLTH-Health Department',\n",
       " 'HLTH-Health Department',\n",
       " 'Fire Department',\n",
       " 'Housing & Community Dev',\n",
       " 'General Services',\n",
       " 'DPW-Water & Waste Water',\n",
       " 'Police Department',\n",
       " 'Police Department',\n",
       " 'Police Department',\n",
       " 'Fire Department',\n",
       " 'Fire Department',\n",
       " 'Housing & Community Dev',\n",
       " 'DPW-Solid Waste',\n",
       " 'DPW-Solid Waste',\n",
       " \"Sheriff's Office\",\n",
       " \"Sheriff's Office\",\n",
       " 'Police Department',\n",
       " 'Fire Department',\n",
       " 'Housing & Community Dev',\n",
       " 'DPW-Water & Waste Water',\n",
       " 'TRANS-Highways',\n",
       " 'Circuit Court',\n",
       " 'HLTH-Health Department',\n",
       " 'DPW-Water & Waste Water',\n",
       " 'General Services',\n",
       " 'DPW-Water & Waste Water',\n",
       " 'M-R Human Services',\n",
       " 'FIN-Acct & Payroll',\n",
       " 'R&P-Recreation',\n",
       " 'Police Department',\n",
       " 'TRANS-Highways',\n",
       " 'M-R Convention Center',\n",
       " 'DPW-Water & Waste Water',\n",
       " 'Police Department',\n",
       " 'TRANS-Highways',\n",
       " 'M-R Human Services',\n",
       " 'M-R Convention Center',\n",
       " 'R&P-Recreation',\n",
       " 'FIN-Collections',\n",
       " 'Police Department',\n",
       " 'Fire Department',\n",
       " 'HLTH-Health Department',\n",
       " 'HLTH-Health Department',\n",
       " 'Fire Department',\n",
       " 'Circuit Court',\n",
       " 'TRANS-Highways',\n",
       " 'Police Department',\n",
       " 'Fire Department',\n",
       " 'Housing & Community Dev',\n",
       " 'Police Department',\n",
       " 'DPW-Water & Waste Water',\n",
       " 'Fire Department',\n",
       " 'Police Department',\n",
       " 'Police Department',\n",
       " 'Housing & Community Dev',\n",
       " 'HLTH-Health Department',\n",
       " 'Police Department',\n",
       " 'Police Department',\n",
       " 'Fire Department',\n",
       " 'M-R Convention Center',\n",
       " 'Police Department',\n",
       " 'DPW-Water & Waste Water',\n",
       " 'Police Department',\n",
       " 'Police Department',\n",
       " 'Enoch Pratt Free Library',\n",
       " 'City Council',\n",
       " 'Police Department',\n",
       " 'Fire Department',\n",
       " 'Fire Department',\n",
       " 'R&P-Recreation',\n",
       " 'General Services',\n",
       " 'DPW-Water & Waste Water',\n",
       " 'Fire Department',\n",
       " 'TRANS-Highways',\n",
       " 'Police Department',\n",
       " 'Police Department',\n",
       " 'R&P-Recreation',\n",
       " 'FIN-Treasury Mgt',\n",
       " 'Police Department',\n",
       " 'DPW-Water & Waste Water',\n",
       " 'DPW-Water & Waste Water',\n",
       " 'Mayors Office',\n",
       " 'HLTH-Health Department',\n",
       " 'General Services',\n",
       " 'TRANS-Highways',\n",
       " 'DPW-Administration',\n",
       " 'Law Department',\n",
       " 'General Services',\n",
       " 'Mayors Office',\n",
       " 'R&P-Recreation',\n",
       " 'TRANS-Highways',\n",
       " 'OED-Employment Dev',\n",
       " 'DPW-Water & Waste Water',\n",
       " 'Law Department',\n",
       " 'DPW-Solid Waste',\n",
       " 'HLTH-Health Department',\n",
       " 'Fire Department',\n",
       " 'Housing & Community Dev',\n",
       " 'Fire Department',\n",
       " 'TRANS-Highways',\n",
       " 'Police Department',\n",
       " 'Police Department',\n",
       " 'ERS/EOS Admin',\n",
       " 'Fire Department',\n",
       " 'Police Department',\n",
       " 'Police Department',\n",
       " 'Fire Department',\n",
       " 'DPW-Water & Waste Water',\n",
       " 'Fire Department',\n",
       " 'Police Department',\n",
       " 'Police Department',\n",
       " 'Police Department',\n",
       " 'Police Department',\n",
       " 'Police Department',\n",
       " \"Orphan's Court\",\n",
       " 'Police Department',\n",
       " 'Police Department',\n",
       " 'FIN-Admin & Budgets',\n",
       " 'DPW-Water & Waste Water',\n",
       " 'M-R Convention Center',\n",
       " 'Police Department',\n",
       " 'TRANS-Crossing Guards',\n",
       " 'DPW-Water & Waste Water',\n",
       " 'DPW-Water & Waste Water',\n",
       " 'Police Department',\n",
       " 'Fire Department',\n",
       " 'HLTH-Health Department',\n",
       " 'Fire Department',\n",
       " 'Mayors Office',\n",
       " 'City Council',\n",
       " 'TRANS-Highways',\n",
       " 'DPW-Solid Waste',\n",
       " 'Fire Department',\n",
       " 'Circuit Court',\n",
       " 'DPW-Solid Waste',\n",
       " 'DPW-Water & Waste Water',\n",
       " 'R&P-Administration',\n",
       " 'DPW-Solid Waste',\n",
       " 'DPW-Solid Waste',\n",
       " 'DPW-Water & Waste Water',\n",
       " 'R&P-Recreation',\n",
       " 'HLTH-Health Department',\n",
       " 'HR-Test Monitor',\n",
       " 'HLTH-Health Department',\n",
       " 'R&P-Recreation',\n",
       " 'Police Department',\n",
       " 'HLTH-Health Department',\n",
       " 'Police Department',\n",
       " 'TRANS-Traffic',\n",
       " 'R&P-Recreation',\n",
       " 'DPW-Water & Waste Water',\n",
       " 'FIN-Purchasing',\n",
       " 'Liquor License Board',\n",
       " 'Enoch Pratt Free Library',\n",
       " 'Fire Department',\n",
       " 'Police Department',\n",
       " 'Housing & Community Dev',\n",
       " 'DPW-Water & Waste Water',\n",
       " 'TRANS-Highways',\n",
       " 'DPW-Administration',\n",
       " 'Enoch Pratt Free Library',\n",
       " 'Fire Department',\n",
       " 'Police Department',\n",
       " 'Fire Department',\n",
       " 'Fire Department',\n",
       " \"Sheriff's Office\",\n",
       " 'Fire Department',\n",
       " 'Fire Department',\n",
       " 'Fire Department',\n",
       " 'DPW-Water & Waste Water',\n",
       " 'Police Department',\n",
       " 'TRANS-Traffic',\n",
       " 'Fire Department',\n",
       " 'R&P-Recreation',\n",
       " 'Enoch Pratt Free Library',\n",
       " 'Police Department',\n",
       " 'Fire Department',\n",
       " 'Fire Department',\n",
       " 'Police Department',\n",
       " 'R&P-Recreation',\n",
       " 'Police Department',\n",
       " 'Housing & Community Dev',\n",
       " 'R&P-Administration',\n",
       " 'Police Department',\n",
       " ...]"
      ]
     },
     "execution_count": 13,
     "metadata": {},
     "output_type": "execute_result"
    }
   ],
   "source": [
    "l1 = []\n",
    "for a in baltimore_clean['DESCR']:\n",
    "    l1.append(a.split('(')[0].strip())\n",
    "l1"
   ]
  },
  {
   "cell_type": "code",
   "execution_count": 14,
   "metadata": {},
   "outputs": [],
   "source": [
    "baltimore_clean['DESCR'] = l1"
   ]
  },
  {
   "cell_type": "code",
   "execution_count": 15,
   "metadata": {},
   "outputs": [],
   "source": [
    "fire_baltimore_clean = baltimore_clean.loc[baltimore_clean['DESCR']=='Fire Department']\n",
    "police_baltimore_clean = baltimore_clean.loc[baltimore_clean['DESCR']=='Police Department']"
   ]
  },
  {
   "cell_type": "code",
   "execution_count": 16,
   "metadata": {},
   "outputs": [
    {
     "data": {
      "text/plain": [
       "3005"
      ]
     },
     "execution_count": 16,
     "metadata": {},
     "output_type": "execute_result"
    }
   ],
   "source": [
    "police_baltimore_clean.shape[0]"
   ]
  },
  {
   "cell_type": "code",
   "execution_count": 17,
   "metadata": {},
   "outputs": [
    {
     "data": {
      "text/plain": [
       "1690"
      ]
     },
     "execution_count": 17,
     "metadata": {},
     "output_type": "execute_result"
    }
   ],
   "source": [
    "fire_baltimore_clean.shape[0]"
   ]
  },
  {
   "cell_type": "code",
   "execution_count": 18,
   "metadata": {},
   "outputs": [],
   "source": [
    "ratio_baltimore= police_baltimore_clean.shape[0]/fire_baltimore_clean.shape[0]"
   ]
  },
  {
   "cell_type": "code",
   "execution_count": 19,
   "metadata": {},
   "outputs": [
    {
     "data": {
      "text/plain": [
       "1.7781065088757397"
      ]
     },
     "execution_count": 19,
     "metadata": {},
     "output_type": "execute_result"
    }
   ],
   "source": [
    "ratio_baltimore"
   ]
  },
  {
   "cell_type": "markdown",
   "metadata": {},
   "source": [
    "By doing the above code, we get the ratio between fire and police department of baltimore city and we can see that police to fire department of baltimore has a 1.77 ratio to them"
   ]
  },
  {
   "cell_type": "code",
   "execution_count": 20,
   "metadata": {},
   "outputs": [],
   "source": [
    "fire_chicago_clean= chicago_clean.loc[chicago_clean['Department']=='FIRE']\n",
    "police_chicago_clean= chicago_clean.loc[chicago_clean['Department']=='POLICE']"
   ]
  },
  {
   "cell_type": "code",
   "execution_count": 21,
   "metadata": {},
   "outputs": [],
   "source": [
    "ratio_chicago= police_chicago_clean.shape[0]/fire_chicago_clean.shape[0]"
   ]
  },
  {
   "cell_type": "code",
   "execution_count": 22,
   "metadata": {},
   "outputs": [
    {
     "data": {
      "text/plain": [
       "13929"
      ]
     },
     "execution_count": 22,
     "metadata": {},
     "output_type": "execute_result"
    }
   ],
   "source": [
    "police_chicago_clean.shape[0]"
   ]
  },
  {
   "cell_type": "code",
   "execution_count": 23,
   "metadata": {},
   "outputs": [
    {
     "data": {
      "text/plain": [
       "4775"
      ]
     },
     "execution_count": 23,
     "metadata": {},
     "output_type": "execute_result"
    }
   ],
   "source": [
    "fire_chicago_clean.shape[0]"
   ]
  },
  {
   "cell_type": "code",
   "execution_count": 24,
   "metadata": {},
   "outputs": [
    {
     "data": {
      "text/plain": [
       "2.917068062827225"
      ]
     },
     "execution_count": 24,
     "metadata": {},
     "output_type": "execute_result"
    }
   ],
   "source": [
    "ratio_chicago"
   ]
  },
  {
   "cell_type": "markdown",
   "metadata": {},
   "source": [
    "Same goes for chicago, the ratio to police to fire department is 2.91 "
   ]
  },
  {
   "cell_type": "markdown",
   "metadata": {},
   "source": [
    "### VISUALISATIONS-"
   ]
  },
  {
   "cell_type": "code",
   "execution_count": 25,
   "metadata": {},
   "outputs": [
    {
     "data": {
      "text/plain": [
       "Text(0, 0.5, 'Number of employees in the department')"
      ]
     },
     "execution_count": 25,
     "metadata": {},
     "output_type": "execute_result"
    },
    {
     "data": {
      "image/png": "[encoded data removed]",
      "text/plain": [
       "<Figure size 720x576 with 1 Axes>"
      ]
     },
     "metadata": {
      "needs_background": "light"
     },
     "output_type": "display_data"
    }
   ],
   "source": [
    "plt.subplots(figsize=(10,8))\n",
    "plt.bar(['Baltimore Police','Baltimore Fire','','Chicago Police','Chicago Fire'],[police_baltimore_clean.shape[0],fire_baltimore_clean.shape[0],0,police_chicago_clean.shape[0],fire_chicago_clean.shape[0]],color=['blue','orange','white','blue','orange'])\n",
    "plt.xlabel('Cities and their departments ')\n",
    "plt.ylabel('Number of employees in the department')"
   ]
  },
  {
   "cell_type": "code",
   "execution_count": 26,
   "metadata": {},
   "outputs": [
    {
     "data": {
      "text/plain": [
       "Text(0, 0.5, 'Ratio Percentage')"
      ]
     },
     "execution_count": 26,
     "metadata": {},
     "output_type": "execute_result"
    },
    {
     "data": {
      "image/png": "[encoded data removed]",
      "text/plain": [
       "<Figure size 432x288 with 1 Axes>"
      ]
     },
     "metadata": {
      "needs_background": "light"
     },
     "output_type": "display_data"
    }
   ],
   "source": [
    "plt.bar (x=['Baltimore','Chicago'],height=[ratio_baltimore,ratio_chicago],color=['orange','purple'])\n",
    "plt.xlabel('Cities')\n",
    "plt.ylabel('Ratio Percentage')"
   ]
  },
  {
   "cell_type": "markdown",
   "metadata": {},
   "source": [
    "**Hypothesis turns out to be false, as there is almost double the difference in the ratio of firefighters to police in baltimore.**\n",
    "**And more than double the difference in chicago between the departments.**"
   ]
  },
  {
   "cell_type": "code",
   "execution_count": 27,
   "metadata": {},
   "outputs": [],
   "source": [
    "baltimore_clean['HIRE_DT']=pd.to_datetime(baltimore_clean['HIRE_DT'])"
   ]
  },
  {
   "cell_type": "code",
   "execution_count": 28,
   "metadata": {},
   "outputs": [],
   "source": [
    "baltimore_clean['Hire_Year'] = baltimore_clean['HIRE_DT'].dt.year"
   ]
  },
  {
   "cell_type": "code",
   "execution_count": 29,
   "metadata": {},
   "outputs": [
    {
     "data": {
      "text/plain": [
       "NAME                 object\n",
       "JOBTITLE             object\n",
       "DEPTID               object\n",
       "DESCR                object\n",
       "HIRE_DT      datetime64[ns]\n",
       "ANNUAL_RT           float64\n",
       "GROSS               float64\n",
       "Hire_Year             int64\n",
       "dtype: object"
      ]
     },
     "execution_count": 29,
     "metadata": {},
     "output_type": "execute_result"
    }
   ],
   "source": [
    "baltimore_clean.dtypes"
   ]
  },
  {
   "cell_type": "markdown",
   "metadata": {},
   "source": [
    "### QUESTION-\n",
    "\n",
    "what is the distribution of career durations in the Baltimore data?"
   ]
  },
  {
   "cell_type": "code",
   "execution_count": 30,
   "metadata": {},
   "outputs": [
    {
     "data": {
      "text/plain": [
       "Text(0.5, 0, 'Number of employees hired')"
      ]
     },
     "execution_count": 30,
     "metadata": {},
     "output_type": "execute_result"
    },
    {
     "data": {
      "image/png": "[encoded data removed]",
      "text/plain": [
       "<Figure size 720x864 with 1 Axes>"
      ]
     },
     "metadata": {
      "needs_background": "light"
     },
     "output_type": "display_data"
    }
   ],
   "source": [
    "plt.subplots(figsize=(10,12))\n",
    "sns.countplot(y=baltimore_clean['Hire_Year'])\n",
    "#plt.xticks(rotation=90)\n",
    "plt.ylabel('Years')\n",
    "plt.xlabel('Number of employees hired')"
   ]
  },
  {
   "cell_type": "markdown",
   "metadata": {},
   "source": [
    "Above is a distance plot on the count of employees depending on the year they got hired."
   ]
  },
  {
   "cell_type": "code",
   "execution_count": 31,
   "metadata": {},
   "outputs": [],
   "source": [
    "baltimore_clean['Duration']=2019-baltimore_clean['Hire_Year']\n",
    "#here making a new column named duration which gives us the years people have been there in the department since they got hired"
   ]
  },
  {
   "cell_type": "code",
   "execution_count": 32,
   "metadata": {},
   "outputs": [
    {
     "data": {
      "text/plain": [
       "Text(0, 0.5, 'Percent of Employees')"
      ]
     },
     "execution_count": 32,
     "metadata": {},
     "output_type": "execute_result"
    },
    {
     "data": {
      "image/png": "[encoded data removed]",
      "text/plain": [
       "<Figure size 432x288 with 1 Axes>"
      ]
     },
     "metadata": {
      "needs_background": "light"
     },
     "output_type": "display_data"
    }
   ],
   "source": [
    "sns.distplot(baltimore_clean['Duration'])\n",
    "plt.xlabel('Duration (In Years)')\n",
    "plt.ylabel('Percent of Employees')"
   ]
  },
  {
   "cell_type": "markdown",
   "metadata": {},
   "source": [
    "duration in years of employees when they started from "
   ]
  },
  {
   "cell_type": "code",
   "execution_count": 33,
   "metadata": {},
   "outputs": [
    {
     "data": {
      "text/html": [
       "<div>\n",
       "<style scoped>\n",
       "    .dataframe tbody tr th:only-of-type {\n",
       "        vertical-align: middle;\n",
       "    }\n",
       "\n",
       "    .dataframe tbody tr th {\n",
       "        vertical-align: top;\n",
       "    }\n",
       "\n",
       "    .dataframe thead th {\n",
       "        text-align: right;\n",
       "    }\n",
       "</style>\n",
       "<table border=\"1\" class=\"dataframe\">\n",
       "  <thead>\n",
       "    <tr style=\"text-align: right;\">\n",
       "      <th></th>\n",
       "      <th>NAME</th>\n",
       "      <th>JOBTITLE</th>\n",
       "      <th>DEPTID</th>\n",
       "      <th>DESCR</th>\n",
       "      <th>HIRE_DT</th>\n",
       "      <th>ANNUAL_RT</th>\n",
       "      <th>GROSS</th>\n",
       "      <th>Hire_Year</th>\n",
       "      <th>Duration</th>\n",
       "    </tr>\n",
       "  </thead>\n",
       "  <tbody>\n",
       "    <tr>\n",
       "      <th>0</th>\n",
       "      <td>Aaron,Patricia G</td>\n",
       "      <td>Facilities/Office Services II</td>\n",
       "      <td>A03031</td>\n",
       "      <td>OED-Employment Dev</td>\n",
       "      <td>1979-10-24</td>\n",
       "      <td>60200.0</td>\n",
       "      <td>58480.46</td>\n",
       "      <td>1979</td>\n",
       "      <td>40</td>\n",
       "    </tr>\n",
       "    <tr>\n",
       "      <th>1</th>\n",
       "      <td>Aaron,Petra L</td>\n",
       "      <td>Assistant State's Attorney</td>\n",
       "      <td>A29045</td>\n",
       "      <td>States Attorneys Office</td>\n",
       "      <td>2006-09-25</td>\n",
       "      <td>81200.0</td>\n",
       "      <td>79220.72</td>\n",
       "      <td>2006</td>\n",
       "      <td>13</td>\n",
       "    </tr>\n",
       "    <tr>\n",
       "      <th>2</th>\n",
       "      <td>Abadir,Adam O</td>\n",
       "      <td>Council Technician</td>\n",
       "      <td>A02002</td>\n",
       "      <td>City Council</td>\n",
       "      <td>2016-12-12</td>\n",
       "      <td>64823.0</td>\n",
       "      <td>57375.31</td>\n",
       "      <td>2016</td>\n",
       "      <td>3</td>\n",
       "    </tr>\n",
       "    <tr>\n",
       "      <th>3</th>\n",
       "      <td>Abaku,Aigbolosimuan O</td>\n",
       "      <td>Police Officer Trainee</td>\n",
       "      <td>A99416</td>\n",
       "      <td>Police Department</td>\n",
       "      <td>2018-04-17</td>\n",
       "      <td>50440.0</td>\n",
       "      <td>11881.34</td>\n",
       "      <td>2018</td>\n",
       "      <td>1</td>\n",
       "    </tr>\n",
       "    <tr>\n",
       "      <th>4</th>\n",
       "      <td>Abbeduto,Mack</td>\n",
       "      <td>Law Clerk SAO</td>\n",
       "      <td>A29017</td>\n",
       "      <td>States Attorneys Office</td>\n",
       "      <td>2017-05-22</td>\n",
       "      <td>38926.0</td>\n",
       "      <td>35138.40</td>\n",
       "      <td>2017</td>\n",
       "      <td>2</td>\n",
       "    </tr>\n",
       "  </tbody>\n",
       "</table>\n",
       "</div>"
      ],
      "text/plain": [
       "                    NAME                       JOBTITLE  DEPTID  \\\n",
       "0       Aaron,Patricia G  Facilities/Office Services II  A03031   \n",
       "1          Aaron,Petra L     Assistant State's Attorney  A29045   \n",
       "2          Abadir,Adam O             Council Technician  A02002   \n",
       "3  Abaku,Aigbolosimuan O         Police Officer Trainee  A99416   \n",
       "4          Abbeduto,Mack                  Law Clerk SAO  A29017   \n",
       "\n",
       "                     DESCR    HIRE_DT  ANNUAL_RT     GROSS  Hire_Year  \\\n",
       "0       OED-Employment Dev 1979-10-24    60200.0  58480.46       1979   \n",
       "1  States Attorneys Office 2006-09-25    81200.0  79220.72       2006   \n",
       "2             City Council 2016-12-12    64823.0  57375.31       2016   \n",
       "3        Police Department 2018-04-17    50440.0  11881.34       2018   \n",
       "4  States Attorneys Office 2017-05-22    38926.0  35138.40       2017   \n",
       "\n",
       "   Duration  \n",
       "0        40  \n",
       "1        13  \n",
       "2         3  \n",
       "3         1  \n",
       "4         2  "
      ]
     },
     "execution_count": 33,
     "metadata": {},
     "output_type": "execute_result"
    }
   ],
   "source": [
    "baltimore_clean.head()"
   ]
  },
  {
   "cell_type": "code",
   "execution_count": 34,
   "metadata": {},
   "outputs": [
    {
     "data": {
      "image/png": "[encoded data removed]",
      "text/plain": [
       "<Figure size 1152x720 with 1 Axes>"
      ]
     },
     "metadata": {
      "needs_background": "light"
     },
     "output_type": "display_data"
    }
   ],
   "source": [
    "plt.subplots(figsize=(16,10))\n",
    "sns.boxplot(baltimore_clean['DESCR'],baltimore_clean['Duration'],showfliers=False)\n",
    "plt.xticks(rotation=90)\n",
    "plt.xlabel('DEPARTMENTS',fontsize=15)\n",
    "plt.ylabel('Duration in Years',fontsize=15)\n",
    "plt.show()"
   ]
  },
  {
   "cell_type": "markdown",
   "metadata": {},
   "source": [
    "Here above, i made the distribution of career duration plot in 4 quartiles per departments   "
   ]
  },
  {
   "cell_type": "markdown",
   "metadata": {},
   "source": [
    "#### Question- \n",
    "\n",
    "Can you sort entries by the average value?"
   ]
  },
  {
   "cell_type": "code",
   "execution_count": 35,
   "metadata": {},
   "outputs": [],
   "source": [
    "department= baltimore_clean['DESCR'].unique()"
   ]
  },
  {
   "cell_type": "code",
   "execution_count": 36,
   "metadata": {},
   "outputs": [
    {
     "data": {
      "text/plain": [
       "array(['OED-Employment Dev', 'States Attorneys Office', 'City Council',\n",
       "       'Police Department', 'R&P-Administration', 'TRANS-Traffic',\n",
       "       'Fire Department', \"Sheriff's Office\", 'R&P-Recreation',\n",
       "       'DPW-Water & Waste Water', 'DPW-Solid Waste',\n",
       "       'HLTH-Health Department', 'Housing & Community Dev',\n",
       "       'Enoch Pratt Free Library', 'COMP-Audits', 'General Services',\n",
       "       'TRANS-Highways', 'FIN-Collections', 'HR-Test Monitor',\n",
       "       'Liquor License Board', 'DPW-Administration', 'FIN-Purchasing',\n",
       "       'COMP-Communication Services', 'TRANS-Crossing Guards',\n",
       "       'Circuit Court', 'FIN-Risk Management Oper',\n",
       "       \"COMP-Comptroller's Office\", 'M-R Human Services',\n",
       "       'Planning Department', 'Legislative Reference',\n",
       "       'HLTH-Health Dept. Location 111', 'Law Department',\n",
       "       'Mayors Office', 'M-R Convention Center', \"Orphan's Court\",\n",
       "       'M-R Info Technology', 'TRANS-Towing', 'COMP-Real Estate',\n",
       "       'R&P-Parks', 'FIN-Treasury Mgt', 'HLTH-Health Dept. Location 116',\n",
       "       'FPR Admin', 'FIN-Acct & Payroll', 'FIN-Admin & Budgets',\n",
       "       'HR-Human Resources', 'HLTH-Health Dept. Location 196',\n",
       "       'HLTH-Heatlh Dept.', 'ERS/EOS Admin', 'M-R Labor Commissioner',\n",
       "       'Municipal & Zoning Appeals 001', 'TRANS-Cross Guard-Summer',\n",
       "       'Civil Rights & Wage Enforce', 'HLTH-Health Dept. Location 199',\n",
       "       'HLTH-Health Dept Location 198', 'HLTH-Health Dept. Location 114',\n",
       "       'HLTH-Health Dept. Location 117', 'HLTH-Health Dept. Location 195',\n",
       "       'M-R Cable & Comm', 'HLTH-Health Dept. Location 113', 'Elections',\n",
       "       'Council Services', 'Special City Services',\n",
       "       'M-R Environmental Cntrl', 'HLTH-Heatlh Dept. Location 115',\n",
       "       \"Mayor's Office\"], dtype=object)"
      ]
     },
     "execution_count": 36,
     "metadata": {},
     "output_type": "execute_result"
    }
   ],
   "source": [
    "department"
   ]
  },
  {
   "cell_type": "code",
   "execution_count": 37,
   "metadata": {},
   "outputs": [],
   "source": [
    "avg= []\n",
    "for d in department:\n",
    "    avg.append(baltimore_clean.loc[baltimore_clean['DESCR']==d,'Duration'].mean())\n",
    "    "
   ]
  },
  {
   "cell_type": "code",
   "execution_count": 38,
   "metadata": {},
   "outputs": [
    {
     "data": {
      "text/plain": [
       "{'OED-Employment Dev': 15.545454545454545,\n",
       " 'States Attorneys Office': 11.1175,\n",
       " 'City Council': 8.538461538461538,\n",
       " 'Police Department': 14.836272878535773,\n",
       " 'R&P-Administration': 9.10909090909091,\n",
       " 'TRANS-Traffic': 15.423076923076923,\n",
       " 'Fire Department': 15.985207100591715,\n",
       " \"Sheriff's Office\": 16.547738693467338,\n",
       " 'R&P-Recreation': 7.7727975270479135,\n",
       " 'DPW-Water & Waste Water': 17.57794417971409,\n",
       " 'DPW-Solid Waste': 12.714080459770114,\n",
       " 'HLTH-Health Department': 10.878901373283396,\n",
       " 'Housing & Community Dev': 11.52319587628866,\n",
       " 'Enoch Pratt Free Library': 13.055327868852459,\n",
       " 'COMP-Audits': 13.921052631578947,\n",
       " 'General Services': 15.895890410958904,\n",
       " 'TRANS-Highways': 18.395620437956204,\n",
       " 'FIN-Collections': 13.4140625,\n",
       " 'HR-Test Monitor': 3.375,\n",
       " 'Liquor License Board': 11.166666666666666,\n",
       " 'DPW-Administration': 13.88961038961039,\n",
       " 'FIN-Purchasing': 19.093023255813954,\n",
       " 'COMP-Communication Services': 11.307692307692308,\n",
       " 'TRANS-Crossing Guards': 14.710743801652892,\n",
       " 'Circuit Court': 12.233082706766917,\n",
       " 'FIN-Risk Management Oper': 11.461538461538462,\n",
       " \"COMP-Comptroller's Office\": 16.0,\n",
       " 'M-R Human Services': 12.375,\n",
       " 'Planning Department': 8.482758620689655,\n",
       " 'Legislative Reference': 30.25,\n",
       " 'HLTH-Health Dept. Location 111': 5.2727272727272725,\n",
       " 'Law Department': 12.96875,\n",
       " 'Mayors Office': 6.666666666666667,\n",
       " 'M-R Convention Center': 10.76923076923077,\n",
       " \"Orphan's Court\": 15.272727272727273,\n",
       " 'M-R Info Technology': 9.776785714285714,\n",
       " 'TRANS-Towing': 11.895522388059701,\n",
       " 'COMP-Real Estate': 26.666666666666668,\n",
       " 'R&P-Parks': 11.181208053691275,\n",
       " 'FIN-Treasury Mgt': 9.11111111111111,\n",
       " 'HLTH-Health Dept. Location 116': 8.666666666666666,\n",
       " 'FPR Admin': 14.8,\n",
       " 'FIN-Acct & Payroll': 13.16,\n",
       " 'FIN-Admin & Budgets': 7.485714285714286,\n",
       " 'HR-Human Resources': 8.819444444444445,\n",
       " 'HLTH-Health Dept. Location 196': 6.3076923076923075,\n",
       " 'HLTH-Heatlh Dept.': 6.882352941176471,\n",
       " 'ERS/EOS Admin': 12.387096774193548,\n",
       " 'M-R Labor Commissioner': 19.666666666666668,\n",
       " 'Municipal & Zoning Appeals 001': 10.11111111111111,\n",
       " 'TRANS-Cross Guard-Summer': 10.9375,\n",
       " 'Civil Rights & Wage Enforce': 5.8125,\n",
       " 'HLTH-Health Dept. Location 199': 4.666666666666667,\n",
       " 'HLTH-Health Dept Location 198': 4.454545454545454,\n",
       " 'HLTH-Health Dept. Location 114': 8.4,\n",
       " 'HLTH-Health Dept. Location 117': 3.3333333333333335,\n",
       " 'HLTH-Health Dept. Location 195': 4.266666666666667,\n",
       " 'M-R Cable & Comm': 5.5,\n",
       " 'HLTH-Health Dept. Location 113': 4.9,\n",
       " 'Elections': 10.0,\n",
       " 'Council Services': 16.333333333333332,\n",
       " 'Special City Services': 10.666666666666666,\n",
       " 'M-R Environmental Cntrl': 9.0,\n",
       " 'HLTH-Heatlh Dept. Location 115': 8.8,\n",
       " \"Mayor's Office\": 15.4}"
      ]
     },
     "execution_count": 38,
     "metadata": {},
     "output_type": "execute_result"
    }
   ],
   "source": [
    "d = dict(zip(department,avg))\n",
    "d"
   ]
  },
  {
   "cell_type": "code",
   "execution_count": 39,
   "metadata": {},
   "outputs": [
    {
     "data": {
      "text/plain": [
       "{'HLTH-Health Dept. Location 117': 3.3333333333333335,\n",
       " 'HR-Test Monitor': 3.375,\n",
       " 'HLTH-Health Dept. Location 195': 4.266666666666667,\n",
       " 'HLTH-Health Dept Location 198': 4.454545454545454,\n",
       " 'HLTH-Health Dept. Location 199': 4.666666666666667,\n",
       " 'HLTH-Health Dept. Location 113': 4.9,\n",
       " 'HLTH-Health Dept. Location 111': 5.2727272727272725,\n",
       " 'M-R Cable & Comm': 5.5,\n",
       " 'Civil Rights & Wage Enforce': 5.8125,\n",
       " 'HLTH-Health Dept. Location 196': 6.3076923076923075,\n",
       " 'Mayors Office': 6.666666666666667,\n",
       " 'HLTH-Heatlh Dept.': 6.882352941176471,\n",
       " 'FIN-Admin & Budgets': 7.485714285714286,\n",
       " 'R&P-Recreation': 7.7727975270479135,\n",
       " 'HLTH-Health Dept. Location 114': 8.4,\n",
       " 'Planning Department': 8.482758620689655,\n",
       " 'City Council': 8.538461538461538,\n",
       " 'HLTH-Health Dept. Location 116': 8.666666666666666,\n",
       " 'HLTH-Heatlh Dept. Location 115': 8.8,\n",
       " 'HR-Human Resources': 8.819444444444445,\n",
       " 'M-R Environmental Cntrl': 9.0,\n",
       " 'R&P-Administration': 9.10909090909091,\n",
       " 'FIN-Treasury Mgt': 9.11111111111111,\n",
       " 'M-R Info Technology': 9.776785714285714,\n",
       " 'Elections': 10.0,\n",
       " 'Municipal & Zoning Appeals 001': 10.11111111111111,\n",
       " 'Special City Services': 10.666666666666666,\n",
       " 'M-R Convention Center': 10.76923076923077,\n",
       " 'HLTH-Health Department': 10.878901373283396,\n",
       " 'TRANS-Cross Guard-Summer': 10.9375,\n",
       " 'States Attorneys Office': 11.1175,\n",
       " 'Liquor License Board': 11.166666666666666,\n",
       " 'R&P-Parks': 11.181208053691275,\n",
       " 'COMP-Communication Services': 11.307692307692308,\n",
       " 'FIN-Risk Management Oper': 11.461538461538462,\n",
       " 'Housing & Community Dev': 11.52319587628866,\n",
       " 'TRANS-Towing': 11.895522388059701,\n",
       " 'Circuit Court': 12.233082706766917,\n",
       " 'M-R Human Services': 12.375,\n",
       " 'ERS/EOS Admin': 12.387096774193548,\n",
       " 'DPW-Solid Waste': 12.714080459770114,\n",
       " 'Law Department': 12.96875,\n",
       " 'Enoch Pratt Free Library': 13.055327868852459,\n",
       " 'FIN-Acct & Payroll': 13.16,\n",
       " 'FIN-Collections': 13.4140625,\n",
       " 'DPW-Administration': 13.88961038961039,\n",
       " 'COMP-Audits': 13.921052631578947,\n",
       " 'TRANS-Crossing Guards': 14.710743801652892,\n",
       " 'FPR Admin': 14.8,\n",
       " 'Police Department': 14.836272878535773,\n",
       " \"Orphan's Court\": 15.272727272727273,\n",
       " \"Mayor's Office\": 15.4,\n",
       " 'TRANS-Traffic': 15.423076923076923,\n",
       " 'OED-Employment Dev': 15.545454545454545,\n",
       " 'General Services': 15.895890410958904,\n",
       " 'Fire Department': 15.985207100591715,\n",
       " \"COMP-Comptroller's Office\": 16.0,\n",
       " 'Council Services': 16.333333333333332,\n",
       " \"Sheriff's Office\": 16.547738693467338,\n",
       " 'DPW-Water & Waste Water': 17.57794417971409,\n",
       " 'TRANS-Highways': 18.395620437956204,\n",
       " 'FIN-Purchasing': 19.093023255813954,\n",
       " 'M-R Labor Commissioner': 19.666666666666668,\n",
       " 'COMP-Real Estate': 26.666666666666668,\n",
       " 'Legislative Reference': 30.25}"
      ]
     },
     "execution_count": 39,
     "metadata": {},
     "output_type": "execute_result"
    }
   ],
   "source": [
    "{k: v for k, v in sorted(d.items(), key=lambda item: item[1])}"
   ]
  },
  {
   "cell_type": "markdown",
   "metadata": {},
   "source": [
    "https://stackoverflow.com/questions/613183/how-do-i-sort-a-dictionary-by-value"
   ]
  },
  {
   "cell_type": "markdown",
   "metadata": {},
   "source": [
    "we can see here that the departments are now sorted by the average values and now we can plot them in an average sorted order "
   ]
  },
  {
   "cell_type": "code",
   "execution_count": 40,
   "metadata": {},
   "outputs": [
    {
     "data": {
      "text/plain": [
       "['HLTH-Health Dept. Location 117',\n",
       " 'HR-Test Monitor',\n",
       " 'HLTH-Health Dept. Location 195',\n",
       " 'HLTH-Health Dept Location 198',\n",
       " 'HLTH-Health Dept. Location 199',\n",
       " 'HLTH-Health Dept. Location 113',\n",
       " 'HLTH-Health Dept. Location 111',\n",
       " 'M-R Cable & Comm',\n",
       " 'Civil Rights & Wage Enforce',\n",
       " 'HLTH-Health Dept. Location 196',\n",
       " 'Mayors Office',\n",
       " 'HLTH-Heatlh Dept.',\n",
       " 'FIN-Admin & Budgets',\n",
       " 'R&P-Recreation',\n",
       " 'HLTH-Health Dept. Location 114',\n",
       " 'Planning Department',\n",
       " 'City Council',\n",
       " 'HLTH-Health Dept. Location 116',\n",
       " 'HLTH-Heatlh Dept. Location 115',\n",
       " 'HR-Human Resources',\n",
       " 'M-R Environmental Cntrl',\n",
       " 'R&P-Administration',\n",
       " 'FIN-Treasury Mgt',\n",
       " 'M-R Info Technology',\n",
       " 'Elections',\n",
       " 'Municipal & Zoning Appeals 001',\n",
       " 'Special City Services',\n",
       " 'M-R Convention Center',\n",
       " 'HLTH-Health Department',\n",
       " 'TRANS-Cross Guard-Summer',\n",
       " 'States Attorneys Office',\n",
       " 'Liquor License Board',\n",
       " 'R&P-Parks',\n",
       " 'COMP-Communication Services',\n",
       " 'FIN-Risk Management Oper',\n",
       " 'Housing & Community Dev',\n",
       " 'TRANS-Towing',\n",
       " 'Circuit Court',\n",
       " 'M-R Human Services',\n",
       " 'ERS/EOS Admin',\n",
       " 'DPW-Solid Waste',\n",
       " 'Law Department',\n",
       " 'Enoch Pratt Free Library',\n",
       " 'FIN-Acct & Payroll',\n",
       " 'FIN-Collections',\n",
       " 'DPW-Administration',\n",
       " 'COMP-Audits',\n",
       " 'TRANS-Crossing Guards',\n",
       " 'FPR Admin',\n",
       " 'Police Department',\n",
       " \"Orphan's Court\",\n",
       " \"Mayor's Office\",\n",
       " 'TRANS-Traffic',\n",
       " 'OED-Employment Dev',\n",
       " 'General Services',\n",
       " 'Fire Department',\n",
       " \"COMP-Comptroller's Office\",\n",
       " 'Council Services',\n",
       " \"Sheriff's Office\",\n",
       " 'DPW-Water & Waste Water',\n",
       " 'TRANS-Highways',\n",
       " 'FIN-Purchasing',\n",
       " 'M-R Labor Commissioner',\n",
       " 'COMP-Real Estate',\n",
       " 'Legislative Reference']"
      ]
     },
     "execution_count": 40,
     "metadata": {},
     "output_type": "execute_result"
    }
   ],
   "source": [
    " sl=[k for k, v in sorted(d.items(), key=lambda item: item[1])]\n",
    "sl"
   ]
  },
  {
   "cell_type": "markdown",
   "metadata": {},
   "source": [
    "converting it to a sorted list to plot in the boxplot"
   ]
  },
  {
   "cell_type": "markdown",
   "metadata": {},
   "source": [
    "Now the same boxplot for sorted entries  by the average values we get this career distribution "
   ]
  },
  {
   "cell_type": "code",
   "execution_count": 41,
   "metadata": {},
   "outputs": [
    {
     "data": {
      "image/png": "[encoded data removed]",
      "text/plain": [
       "<Figure size 1152x720 with 1 Axes>"
      ]
     },
     "metadata": {
      "needs_background": "light"
     },
     "output_type": "display_data"
    }
   ],
   "source": [
    "plt.subplots(figsize=(16,10))\n",
    "sns.boxplot(baltimore_clean['DESCR'],baltimore_clean['Duration'],showfliers=False,order=sl)\n",
    "plt.xticks(rotation=90)\n",
    "plt.xlabel('DEPARTMENTS',fontsize=15)\n",
    "plt.ylabel('Duration in Years',fontsize=15)\n",
    "plt.show()"
   ]
  },
  {
   "cell_type": "markdown",
   "metadata": {},
   "source": [
    "### What have i learned- \n",
    "\n",
    "After the thorough analysis about the data i had between two citites baltimore and chicago, I have finally learned that there is a vast difference between salaries among the same department in both cities which is because chicago has a large number of population compared to baltimore and other than that there are more people in the police departments than in the fire departments in both the cities.\n",
    "\n",
    "This study is useful for knowing which cities between these two has a higher pay rate. "
   ]
  }
 ],
 "metadata": {
  "kernelspec": {
   "display_name": "Python 3",
   "language": "python",
   "name": "python3"
  },
  "language_info": {
   "codemirror_mode": {
    "name": "ipython",
    "version": 3
   },
   "file_extension": ".py",
   "mimetype": "text/x-python",
   "name": "python",
   "nbconvert_exporter": "python",
   "pygments_lexer": "ipython3",
   "version": "3.7.3"
  }
 },
 "nbformat": 4,
 "nbformat_minor": 4
}
